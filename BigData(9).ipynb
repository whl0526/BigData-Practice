{
 "cells": [
  {
   "cell_type": "markdown",
   "metadata": {},
   "source": [
   
    "\n",
    "IMDB-Movie-Data.csv를 dataframe으로 읽어들여 전체 data의 몇 %가  missing data인지 소숫점 이하 둘째자리까지만 출력하는 프로그램을 작성하시오. 파일을 읽어들일때 \"Title\"을 index column으로 하시오."
   ]
  },
  {
   "cell_type": "code",
   "execution_count": 1,
   "metadata": {
    "scrolled": true
   },
   "outputs": [
    {
     "name": "stdout",
     "output_type": "stream",
     "text": [
      "0.02 %\n"
     ]
    }
   ],
   "source": [
    "import pandas as pd\n",
    "df = pd.read_csv('IMDB-Movie-Data.csv',index_col='Title')\n",
    "a=df.isnull().sum().sum()/df.count().sum()\n",
    "a=round(a,2)\n",
    "print(a,'%')\n"
   ]
  },
  {
   "cell_type": "markdown",
   "metadata": {},
   "source": [
   
    "\n",
    "### data cleaning & exploration 1.ipynb 파일 강의시 언급한 homework 문제를 다음의 순서대로 프로그램하시오. 아래 7개의 단계가 문제 3개로 나뉘어 있음.\n",
    "\n",
    "1. IMDB-Movie-Data.csv 파일을 다시 읽어들이시오.\n",
    "1. revenue column의 missing data 갯수를 출력하시오\n",
    "1. revenue column의 mean값을 구해 revenue_mean 에 넣고 출력하시오\n",
    "1. revenue column을 genre별로 grouping하고 genre별 mean값을 구해 genre_mean에 넣고 출력하시오. genre이름과 mean값만 출력되어야 함.\n",
    "1. revenue column의 missing data를 genre별 평균값으로 impute 하시오.\n",
    "1. genre에 따라서 1개의 행만 있고 그 행의 revenue 값이 NaN인 genre가 여러 개 있습니다.이런 genre의 revenue 평균값은 그대로 NaN이 되고 impute 해봐야 NaN 자리에 NaN이 들어가게 되어 그대로 NaN으로 남습니다.  revenue column에서 impute 후에도 아직도 NaN인 data의 갯수를 출력하시오.\n",
    "1. 6단계후에 남은 NaN 모두를 3단계에서 구한 revenue_mean으로 채우고 revenue column에서 NaN인 data의 갯수를 출력하시오. 0개가 출력되어 더 이상 NaN이 없는 것으로 나와야 맞습니다.\n",
    "\n",
    "### 프로그램 실행시 warning이 나올 수 있는데 프로그램 시작시 아래 코드를 넣어 warning이 출력되지 않도록 하시오\n",
    "\n",
    "import warnings <br>\n",
    "warnings.filterwarnings('ignore')\n",
    "\n",
    "### dataframe의 cell이 NaN(Not a Number)인지 아닌지를 테스트하려면np.isnan() 함수를 사용하시오."
   ]
  },
  {
   "cell_type": "markdown",
   "metadata": {},
   "source": [
   
    "### 아래 단계가 실행되도록 코딩하시오\n",
    "1. IMDB-Movie-Data.csv 파일을 다시 읽어들이시오.\n",
    "1. revenue column의 missing data 갯수를 출력하시오\n",
    "1. revenue column의 mean값을 구해 revenue_mean 에 넣고 출력하시오"
   ]
  },
  {
   "cell_type": "code",
   "execution_count": 2,
   "metadata": {},
   "outputs": [
    {
     "name": "stdout",
     "output_type": "stream",
     "text": [
      "128\n",
      "82.95637614678897\n"
     ]
    }
   ],
   "source": [
    "import warnings\n",
    "warnings.filterwarnings('ignore')\n",
    "df = pd.read_csv('IMDB-Movie-Data.csv')\n",
    "print(df['Revenue (Millions)'].isnull().sum())\n",
    "revenue_mean=df['Revenue (Millions)'].mean()\n",
    "print(revenue_mean)"
   ]
  },
  {
   "cell_type": "markdown",
   "metadata": {},
   "source": [
  
    "### 아래 단계가 실행되도록 코딩하시오\n",
    "4. revenue column을 genre별로 grouping하고 genre별 mean값을 구해 genre_mean에 넣고 출력하시오. genre이름과 mean값만 출력되어야 함.\n",
    "5. revenue column의 missing data를 genre별 평균값으로 impute 하시오."
   ]
  },
  {
   "cell_type": "code",
   "execution_count": 3,
   "metadata": {
    "scrolled": true
   },
   "outputs": [
    {
     "data": {
      "text/html": [
       "<div>\n",
       "<style scoped>\n",
       "    .dataframe tbody tr th:only-of-type {\n",
       "        vertical-align: middle;\n",
       "    }\n",
       "\n",
       "    .dataframe tbody tr th {\n",
       "        vertical-align: top;\n",
       "    }\n",
       "\n",
       "    .dataframe thead th {\n",
       "        text-align: right;\n",
       "    }\n",
       "</style>\n",
       "<table border=\"1\" class=\"dataframe\">\n",
       "  <thead>\n",
       "    <tr style=\"text-align: right;\">\n",
       "      <th></th>\n",
       "      <th>Revenue (Millions)</th>\n",
       "    </tr>\n",
       "    <tr>\n",
       "      <th>Genre</th>\n",
       "      <th></th>\n",
       "    </tr>\n",
       "  </thead>\n",
       "  <tbody>\n",
       "    <tr>\n",
       "      <th>Action</th>\n",
       "      <td>131.560000</td>\n",
       "    </tr>\n",
       "    <tr>\n",
       "      <th>Action,Adventure</th>\n",
       "      <td>223.740000</td>\n",
       "    </tr>\n",
       "    <tr>\n",
       "      <th>Action,Adventure,Biography</th>\n",
       "      <td>16.500000</td>\n",
       "    </tr>\n",
       "    <tr>\n",
       "      <th>Action,Adventure,Comedy</th>\n",
       "      <td>95.733571</td>\n",
       "    </tr>\n",
       "    <tr>\n",
       "      <th>Action,Adventure,Crime</th>\n",
       "      <td>90.620000</td>\n",
       "    </tr>\n",
       "    <tr>\n",
       "      <th>...</th>\n",
       "      <td>...</td>\n",
       "    </tr>\n",
       "    <tr>\n",
       "      <th>Romance,Sci-Fi,Thriller</th>\n",
       "      <td>62.450000</td>\n",
       "    </tr>\n",
       "    <tr>\n",
       "      <th>Sci-Fi</th>\n",
       "      <td>20.760000</td>\n",
       "    </tr>\n",
       "    <tr>\n",
       "      <th>Sci-Fi,Thriller</th>\n",
       "      <td>64.510000</td>\n",
       "    </tr>\n",
       "    <tr>\n",
       "      <th>Thriller</th>\n",
       "      <td>0.320000</td>\n",
       "    </tr>\n",
       "    <tr>\n",
       "      <th>Thriller,War</th>\n",
       "      <td>NaN</td>\n",
       "    </tr>\n",
       "  </tbody>\n",
       "</table>\n",
       "<p>207 rows × 1 columns</p>\n",
       "</div>"
      ],
      "text/plain": [
       "                            Revenue (Millions)\n",
       "Genre                                         \n",
       "Action                              131.560000\n",
       "Action,Adventure                    223.740000\n",
       "Action,Adventure,Biography           16.500000\n",
       "Action,Adventure,Comedy              95.733571\n",
       "Action,Adventure,Crime               90.620000\n",
       "...                                        ...\n",
       "Romance,Sci-Fi,Thriller              62.450000\n",
       "Sci-Fi                               20.760000\n",
       "Sci-Fi,Thriller                      64.510000\n",
       "Thriller                              0.320000\n",
       "Thriller,War                               NaN\n",
       "\n",
       "[207 rows x 1 columns]"
      ]
     },
     "execution_count": 3,
     "metadata": {},
     "output_type": "execute_result"
    }
   ],
   "source": [
    "import numpy as np\n",
    "a=df.groupby('Genre')[['Revenue (Millions)']].mean()\n",
    "a"
   ]
  },
  {
   "cell_type": "code",
   "execution_count": 6,
   "metadata": {},
   "outputs": [],
   "source": [
    "revenue=a\n",
    "revenue.fillna(df.groupby('Genre')['Revenue (Millions)'].mean(), inplace = True)"
   ]
  },
  {
   "cell_type": "markdown",
   "metadata": {},
   "source": [
   
    "### 아래 단계가 실행되도록 코딩하시오\n",
    "6. genre에 따라서 1개의 행만 있고 그 행의 revenue 값이 NaN인 genre가 여러 개 있습니다.이런 genre의 revenue 평균값은 그대로 NaN이 되고 impute 해봐야 NaN 자리에 NaN이 들어가게 되어 그대로 NaN으로 남습니다.  revenue column에서 impute 후에도 아직도 NaN인 data의 갯수를 출력하시오.\n",
    "7. 6단계후에 남은 NaN 모두를 3단계에서 구한 revenue_mean으로 채우고 revenue column에서 NaN인 data의 갯수를 출력하시오. 0개가 출력되어 더 이상 NaN이 없는 것으로 나와야 맞습니다."
   ]
  },
  {
   "cell_type": "code",
   "execution_count": 77,
   "metadata": {},
   "outputs": [
    {
     "data": {
      "text/plain": [
       "Revenue (Millions)    12\n",
       "dtype: int64"
      ]
     },
     "execution_count": 77,
     "metadata": {},
     "output_type": "execute_result"
    }
   ],
   "source": [
    "a.isnull().sum()"
   ]
  },
  {
   "cell_type": "code",
   "execution_count": 78,
   "metadata": {},
   "outputs": [],
   "source": [
    "a.fillna(revenue_mean, inplace = True)"
   ]
  },
  {
   "cell_type": "code",
   "execution_count": 79,
   "metadata": {},
   "outputs": [
    {
     "data": {
      "text/plain": [
       "Revenue (Millions)    0\n",
       "dtype: int64"
      ]
     },
     "execution_count": 79,
     "metadata": {},
     "output_type": "execute_result"
    }
   ],
   "source": [
    "a.isnull().sum()"
   ]
  },
  {
   "cell_type": "code",
   "execution_count": null,
   "metadata": {},
   "outputs": [],
   "source": []
  }
 ],
 "metadata": {
  "kernelspec": {
   "display_name": "Python 3",
   "language": "python",
   "name": "python3"
  },
  "language_info": {
   "codemirror_mode": {
    "name": "ipython",
    "version": 3
   },
   "file_extension": ".py",
   "mimetype": "text/x-python",
   "name": "python",
   "nbconvert_exporter": "python",
   "pygments_lexer": "ipython3",
   "version": "3.7.9"
  }
 },
 "nbformat": 4,
 "nbformat_minor": 4
}
