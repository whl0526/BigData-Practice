{
 "cells": [
  {
   "cell_type": "markdown",
   "metadata": {},
   "source": [
    "## [출석인정용과제]\n",
    "\n",
    "Automobile_data.csv를 dataframe으로 읽어들인 후 company별 차량 모델의 갯수를 아래와 같이 value_counts()를 이용하여 내림차순으로 출력할 수 있다. value_counts() 대신에 groupby()를 이용하여 아래와 똑같은 내용으로 내림차순 출력되도록 프로그램 하시오. 같은 차량 모델 갯수를 갖는 company의 출력순서는 바뀌어도 상관없음."
   ]
  },
  {
   "cell_type": "code",
   "execution_count": 2,
   "metadata": {},
   "outputs": [
    {
     "data": {
      "text/plain": [
       "toyota           7\n",
       "bmw              6\n",
       "mazda            5\n",
       "nissan           5\n",
       "volkswagen       4\n",
       "mercedes-benz    4\n",
       "mitsubishi       4\n",
       "audi             4\n",
       "isuzu            3\n",
       "jaguar           3\n",
       "porsche          3\n",
       "alfa-romero      3\n",
       "chevrolet        3\n",
       "honda            3\n",
       "dodge            2\n",
       "volvo            2\n",
       "Name: company, dtype: int64"
      ]
     },
     "execution_count": 2,
     "metadata": {},
     "output_type": "execute_result"
    }
   ],
   "source": [
    "import pandas as pd\n",
    "df = pd.read_csv(\"Automobile_data.csv\")\n",
    "df['company'].value_counts()"
   ]
  },
  {
   "cell_type": "code",
   "execution_count": 3,
   "metadata": {},
   "outputs": [
    {
     "data": {
      "text/plain": [
       "company\n",
       "toyota           7\n",
       "bmw              6\n",
       "nissan           5\n",
       "mazda            5\n",
       "volkswagen       4\n",
       "mitsubishi       4\n",
       "mercedes-benz    4\n",
       "audi             4\n",
       "porsche          3\n",
       "jaguar           3\n",
       "isuzu            3\n",
       "honda            3\n",
       "chevrolet        3\n",
       "alfa-romero      3\n",
       "volvo            2\n",
       "dodge            2\n",
       "Name: company, dtype: int64"
      ]
     },
     "execution_count": 3,
     "metadata": {},
     "output_type": "execute_result"
    }
   ],
   "source": [
    "df.groupby('company')['company'].count().sort_values(ascending = False)"
   ]
  },
  {
   "cell_type": "code",
   "execution_count": null,
   "metadata": {},
   "outputs": [],
   "source": []
  }
 ],
 "metadata": {
  "kernelspec": {
   "display_name": "Python 3",
   "language": "python",
   "name": "python3"
  },
  "language_info": {
   "codemirror_mode": {
    "name": "ipython",
    "version": 3
   },
   "file_extension": ".py",
   "mimetype": "text/x-python",
   "name": "python",
   "nbconvert_exporter": "python",
   "pygments_lexer": "ipython3",
   "version": "3.7.9"
  }
 },
 "nbformat": 4,
 "nbformat_minor": 4
}
