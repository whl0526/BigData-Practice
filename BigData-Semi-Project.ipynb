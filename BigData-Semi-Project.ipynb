{
 "cells": [
  {
   "cell_type": "markdown",
   "metadata": {},
   "source": [
   
   ]
  },
  {
   "cell_type": "code",
   "execution_count": 2,
   "metadata": {},
   "outputs": [
    {
     "name": "stdout",
     "output_type": "stream",
     "text": [
      "The sql extension is already loaded. To reload it, use:\n",
      "  %reload_ext sql\n"
     ]
    }
   ],
   "source": [
    "%load_ext sql\n",
    "%sql sqlite:///Weather2.db"
   ]
  },
  {
   "cell_type": "markdown",
   "metadata": {},
   "source": [
    "## 문제 1 [SQL]\n",
    "Regions table에서 coastal이 'Y'인 행의 갯수와 'N'인 행의 갯수를 구하고 행의 갯수의 오름차순으로 출력하시오. 1개의 Query만 사용하고 어떤 갯수가 'Y'의 갯수이고 'N'의 갯수인지 명확히 출력하여야 함"
   ]
  },
  {
   "cell_type": "code",
   "execution_count": 187,
   "metadata": {},
   "outputs": [
    {
     "name": "stdout",
     "output_type": "stream",
     "text": [
      " * sqlite:///Weather2.db\n",
      "Done.\n"
     ]
    },
    {
     "data": {
      "text/html": [
       "<table>\n",
       "    <tr>\n",
       "        <th>coastal</th>\n",
       "        <th>coastal count</th>\n",
       "    </tr>\n",
       "    <tr>\n",
       "        <td>N</td>\n",
       "        <td>24</td>\n",
       "    </tr>\n",
       "    <tr>\n",
       "        <td>Y</td>\n",
       "        <td>19</td>\n",
       "    </tr>\n",
       "</table>"
      ],
      "text/plain": [
       "[('N', 24), ('Y', 19)]"
      ]
     },
     "execution_count": 187,
     "metadata": {},
     "output_type": "execute_result"
    }
   ],
   "source": [
    "%%sql\n",
    "\n",
    "Select Coastal,count(*) as 'coastal count'\n",
    "From regions\n",
    "\n",
    "Group by coastal\n",
    "Order by coastal asc"
   ]
  },
  {
   "cell_type": "markdown",
   "metadata": {},
   "source": [
    "## 문제 2 [SQL]\n",
    "1. 강의시간에 배운 두 table에 대한 Join은 where clause에 두 table이 공유하는 열이 서로 같다는 조건을 줌으로써 이루어 졌음.\n",
    "1. sql에서는 join을 위해 where clause에 조건을 줄 필요가 없는(where clause를 사용할 필요가 없는) inner join이라는 기능을 제공하고 있음. 이 기능을 이용하여  CityTemps table에 Regions table을 병합하고, 모든 region과 coastal의 combination에 대하여 lat의 최소값과 lng의 최소값을 출력하시오. inner join 기능을 어떻게 사용하는지는 구글 검색 등을 이용하여 찾아내시오.\n",
    "1. 1개의 Query만 사용하여 문제를 푸시오."
   ]
  },
  {
   "cell_type": "code",
   "execution_count": 163,
   "metadata": {},
   "outputs": [
    {
     "name": "stdout",
     "output_type": "stream",
     "text": [
      " * sqlite:///Weather2.db\n",
      "Done.\n"
     ]
    },
    {
     "data": {
      "text/html": [
       "<table>\n",
       "    <tr>\n",
       "        <th>region</th>\n",
       "        <th>coastal</th>\n",
       "        <th>min(lat)</th>\n",
       "        <th>min(lng)</th>\n",
       "    </tr>\n",
       "    <tr>\n",
       "        <td>Midatlantic</td>\n",
       "        <td>N</td>\n",
       "        <td>40.9</td>\n",
       "        <td>75.5</td>\n",
       "    </tr>\n",
       "    <tr>\n",
       "        <td>Midatlantic</td>\n",
       "        <td>Y</td>\n",
       "        <td>39.8</td>\n",
       "        <td>73.7</td>\n",
       "    </tr>\n",
       "    <tr>\n",
       "        <td>Mountain</td>\n",
       "        <td>N</td>\n",
       "        <td>33.6</td>\n",
       "        <td>104.9</td>\n",
       "    </tr>\n",
       "    <tr>\n",
       "        <td>Northcentral</td>\n",
       "        <td>N</td>\n",
       "        <td>38.1</td>\n",
       "        <td>82.5</td>\n",
       "    </tr>\n",
       "    <tr>\n",
       "        <td>Northeast</td>\n",
       "        <td>N</td>\n",
       "        <td>45.0</td>\n",
       "        <td>73.9</td>\n",
       "    </tr>\n",
       "    <tr>\n",
       "        <td>Northeast</td>\n",
       "        <td>Y</td>\n",
       "        <td>41.7</td>\n",
       "        <td>70.5</td>\n",
       "    </tr>\n",
       "    <tr>\n",
       "        <td>Pacific</td>\n",
       "        <td>Y</td>\n",
       "        <td>45.6</td>\n",
       "        <td>117.9</td>\n",
       "    </tr>\n",
       "    <tr>\n",
       "        <td>Southatlantic</td>\n",
       "        <td>Y</td>\n",
       "        <td>25.0</td>\n",
       "        <td>76.3</td>\n",
       "    </tr>\n",
       "    <tr>\n",
       "        <td>Southcentral</td>\n",
       "        <td>N</td>\n",
       "        <td>35.4</td>\n",
       "        <td>86.5</td>\n",
       "    </tr>\n",
       "    <tr>\n",
       "        <td>Southcentral</td>\n",
       "        <td>Y</td>\n",
       "        <td>29.4</td>\n",
       "        <td>86.8</td>\n",
       "    </tr>\n",
       "</table>"
      ],
      "text/plain": [
       "[('Midatlantic', 'N', 40.9, 75.5),\n",
       " ('Midatlantic', 'Y', 39.8, 73.7),\n",
       " ('Mountain', 'N', 33.6, 104.9),\n",
       " ('Northcentral', 'N', 38.1, 82.5),\n",
       " ('Northeast', 'N', 45.0, 73.9),\n",
       " ('Northeast', 'Y', 41.7, 70.5),\n",
       " ('Pacific', 'Y', 45.6, 117.9),\n",
       " ('Southatlantic', 'Y', 25.0, 76.3),\n",
       " ('Southcentral', 'N', 35.4, 86.5),\n",
       " ('Southcentral', 'Y', 29.4, 86.8)]"
      ]
     },
     "execution_count": 163,
     "metadata": {},
     "output_type": "execute_result"
    }
   ],
   "source": [
    "%%sql\n",
    "Select region, coastal, min(lat), min(lng)\n",
    "\n",
    "From CityTemps\n",
    "    inner join Regions\n",
    "    ON CityTemps.state = Regions.state\n",
    "    \n",
    "Group by Region, Coastal"
   ]
  },
  {
   "cell_type": "markdown",
   "metadata": {},
   "source": [
    "## 문제 3 [PYTHON]\n",
    "CityTemps.csv와 Regions.tsv를 각각 df1과 df2라는 dataframe으로 읽어 들이시오. 그후 df1에 df2를 pandas의 merge 함수를 이용하여 병합하고, groupby 함수를 이용하여 region과 coastal의 combination을 만들고 lat과 lng의 최소값을 출력하시오. 문제 2번의 sql문제와 똑같은 답이 나와야 함."
   ]
  },
  {
   "cell_type": "code",
   "execution_count": 197,
   "metadata": {},
   "outputs": [
    {
     "data": {
      "text/html": [
       "<div>\n",
       "<style scoped>\n",
       "    .dataframe tbody tr th:only-of-type {\n",
       "        vertical-align: middle;\n",
       "    }\n",
       "\n",
       "    .dataframe tbody tr th {\n",
       "        vertical-align: top;\n",
       "    }\n",
       "\n",
       "    .dataframe thead th {\n",
       "        text-align: right;\n",
       "    }\n",
       "</style>\n",
       "<table border=\"1\" class=\"dataframe\">\n",
       "  <thead>\n",
       "    <tr style=\"text-align: right;\">\n",
       "      <th></th>\n",
       "      <th></th>\n",
       "      <th>lat</th>\n",
       "      <th>lng</th>\n",
       "    </tr>\n",
       "    <tr>\n",
       "      <th>region</th>\n",
       "      <th>coastal</th>\n",
       "      <th></th>\n",
       "      <th></th>\n",
       "    </tr>\n",
       "  </thead>\n",
       "  <tbody>\n",
       "    <tr>\n",
       "      <th rowspan=\"2\" valign=\"top\">Midatlantic</th>\n",
       "      <th>N</th>\n",
       "      <td>40.9</td>\n",
       "      <td>75.5</td>\n",
       "    </tr>\n",
       "    <tr>\n",
       "      <th>Y</th>\n",
       "      <td>39.8</td>\n",
       "      <td>73.7</td>\n",
       "    </tr>\n",
       "    <tr>\n",
       "      <th>Mountain</th>\n",
       "      <th>N</th>\n",
       "      <td>33.6</td>\n",
       "      <td>104.9</td>\n",
       "    </tr>\n",
       "    <tr>\n",
       "      <th>Northcentral</th>\n",
       "      <th>N</th>\n",
       "      <td>38.1</td>\n",
       "      <td>82.5</td>\n",
       "    </tr>\n",
       "    <tr>\n",
       "      <th rowspan=\"2\" valign=\"top\">Northeast</th>\n",
       "      <th>N</th>\n",
       "      <td>45.0</td>\n",
       "      <td>73.9</td>\n",
       "    </tr>\n",
       "    <tr>\n",
       "      <th>Y</th>\n",
       "      <td>41.7</td>\n",
       "      <td>70.5</td>\n",
       "    </tr>\n",
       "    <tr>\n",
       "      <th>Pacific</th>\n",
       "      <th>Y</th>\n",
       "      <td>34.3</td>\n",
       "      <td>117.9</td>\n",
       "    </tr>\n",
       "    <tr>\n",
       "      <th>Southatlantic</th>\n",
       "      <th>Y</th>\n",
       "      <td>25.0</td>\n",
       "      <td>76.3</td>\n",
       "    </tr>\n",
       "    <tr>\n",
       "      <th rowspan=\"2\" valign=\"top\">Southcentral</th>\n",
       "      <th>N</th>\n",
       "      <td>35.4</td>\n",
       "      <td>86.5</td>\n",
       "    </tr>\n",
       "    <tr>\n",
       "      <th>Y</th>\n",
       "      <td>29.4</td>\n",
       "      <td>86.8</td>\n",
       "    </tr>\n",
       "  </tbody>\n",
       "</table>\n",
       "</div>"
      ],
      "text/plain": [
       "                        lat    lng\n",
       "region        coastal             \n",
       "Midatlantic   N        40.9   75.5\n",
       "              Y        39.8   73.7\n",
       "Mountain      N        33.6  104.9\n",
       "Northcentral  N        38.1   82.5\n",
       "Northeast     N        45.0   73.9\n",
       "              Y        41.7   70.5\n",
       "Pacific       Y        34.3  117.9\n",
       "Southatlantic Y        25.0   76.3\n",
       "Southcentral  N        35.4   86.5\n",
       "              Y        29.4   86.8"
      ]
     },
     "execution_count": 197,
     "metadata": {},
     "output_type": "execute_result"
    }
   ],
   "source": [
    "import pandas as pd\n",
    "df1 = pd.read_csv(\"CityTemps.csv\")\n",
    "df2 = pd.read_csv(\"Regions.tsv\", sep='\\t')\n",
    "\n",
    "merge1 = df1.merge(df2, on='state')\n",
    "arr= merge1.groupby(['region', 'coastal'])\n",
    "arr[['lat', 'lng']].min()"
   ]
  },
  {
   "cell_type": "markdown",
   "metadata": {},
   "source": [
    "## 문제 4 [PYTHON]\n",
    "CityTemps.csv를 dictionary 형태로 읽어들여 cities라는 이름의 list에 넣으시오. cities에 있는 dictionary들중 마지막에서 세번째 있는 dictionary를 출력하고, 또한 가장 마지막에 있는 dictionary의 temp값도 출력하시오."
   ]
  },
  {
   "cell_type": "code",
   "execution_count": 139,
   "metadata": {},
   "outputs": [
    {
     "name": "stdout",
     "output_type": "stream",
     "text": [
      "OrderedDict([('city', 'Madison'), ('state', 'Wisconsin'), ('lat', '43.4'), ('lng', '90.2'), ('temp', '9')])\n",
      "\n",
      "temp == 14˚c\n"
     ]
    }
   ],
   "source": [
    "import csv\n",
    "cities = [ ]\n",
    "with open('cityTemps.csv','r') as cityfile:\n",
    "    city = csv.DictReader(cityfile)\n",
    "    for row in city:\n",
    "        cities.append(row)\n",
    "    \n",
    "print(cities[-3])\n",
    "print()\n",
    "print('temp == '+cities[-1]['temp']+'˚c')"
   ]
  },
  {
   "cell_type": "markdown",
   "metadata": {},
   "source": [
    "## 문제 5 [PYTHON]\n",
    "property data2.csv에는 standard/non-standard/unexpected missing value가 섞여있다. 이 세가지의 모든 missing value를 한번에 NULL로 인식하면서 읽어들여 dataframe df에 저장하고 각 열별 NULL의 갯수를 출력하시오. \n",
    "### property data.csv가 아니고 property data2.csv를 사용해야 합니다"
   ]
  },
  {
   "cell_type": "code",
   "execution_count": 161,
   "metadata": {},
   "outputs": [
    {
     "data": {
      "text/plain": [
       "PID             1\n",
       "ST_NUM          1\n",
       "ST_NAME         0\n",
       "OWN_OCCUPIED    1\n",
       "NUM_BEDROOMS    3\n",
       "NUM_BATH        2\n",
       "SQ_FT           2\n",
       "dtype: int64"
      ]
     },
     "execution_count": 161,
     "metadata": {},
     "output_type": "execute_result"
    }
   ],
   "source": [
    "df = pd.read_csv('property data2.csv')\n",
    "missing_values = ['?? ', 'NAN', '10203']\n",
    "df = pd.read_csv('property data2.csv', na_values = missing_values)\n",
    "df.isnull().sum()"
   ]
  }
 ],
 "metadata": {
  "kernelspec": {
   "display_name": "Python 3",
   "language": "python",
   "name": "python3"
  },
  "language_info": {
   "codemirror_mode": {
    "name": "ipython",
    "version": 3
   },
   "file_extension": ".py",
   "mimetype": "text/x-python",
   "name": "python",
   "nbconvert_exporter": "python",
   "pygments_lexer": "ipython3",
   "version": "3.7.9"
  }
 },
 "nbformat": 4,
 "nbformat_minor": 4
}
