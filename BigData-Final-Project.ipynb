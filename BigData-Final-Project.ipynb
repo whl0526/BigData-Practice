{
 "cells": [
  {
   "cell_type": "markdown",
   "metadata": {},
   "source": [
    "# 총 8문제(문제1, 2, 3, 4와 문제 5-1, 5-2, 5-3, 5-4) 각 5점씩, 총 40점 만점임\n",
    "\n",
    "## 문제풀이에 사용되는 data set은 반드시 문제와 함께 제공되는 자료를 사용하여야 함.\n",
    "## LMS에 답안 업로드시, 설령 문제풀이 결과로 오류가 났다하더라도 모든 문제에 대하여 반드시 출력을 포함하여 올려야 함. 출력이 있어야 할 cell에 출력이 안달려 있으면 0점처리함\n",
    "## 문제가 적힌 markdown cell을 절대로 편집하지 마시오\n",
    "## 문제에서 요구하는 출력만 생성하고 불필요한(문제에서 요구하지 않은) 출력은 절대로 생성하지 마시오."
   ]
  },
  {
   "cell_type": "markdown",
   "metadata": {},
   "source": [
    "## 문제 1\n",
    "IMDB-Movie-Data.csv 파일을 movies_df라는 dataframe으로 읽어들이시오. 이때 Title을 index column으로 하여 읽으시오. <br>\n",
    "movies_df의 column별 NULL의 갯수를 출력하시오"
   ]
  },
  {
   "cell_type": "code",
   "execution_count": 1,
   "metadata": {},
   "outputs": [],
   "source": [
    "import pandas as pd\n",
    "import numpy as np"
   ]
  },
  {
   "cell_type": "code",
   "execution_count": 2,
   "metadata": {},
   "outputs": [
    {
     "data": {
      "text/plain": [
       "Rank                    0\n",
       "Genre                   0\n",
       "Description             0\n",
       "Director                0\n",
       "Actors                  0\n",
       "Year                    0\n",
       "Runtime (Minutes)       0\n",
       "Rating                  0\n",
       "Votes                   0\n",
       "Revenue (Millions)    128\n",
       "Metascore              64\n",
       "dtype: int64"
      ]
     },
     "execution_count": 2,
     "metadata": {},
     "output_type": "execute_result"
    }
   ],
   "source": [
    "movies_df = pd.read_csv(\"IMDB-Movie-Data.csv\", index_col=\"Title\")\n",
    "movies_df.isnull().sum()"
   ]
  },
  {
   "cell_type": "markdown",
   "metadata": {},
   "source": [
    "## 문제 2\n",
    "movies_df에서 Metascore column의 값이 NULL인 모든 row를 제거하고 제거후의 dataframe을 df에 저장하시오. df의 각 column별로 Non-Null의 갯수와 Dtype(Data type)을 출력하시오. 출력시 column별 Non-Null의 갯수와 Dtype(Data type)외에 다른 정보들이 같이 출력되어도 상관없음."
   ]
  },
  {
   "cell_type": "code",
   "execution_count": 3,
   "metadata": {},
   "outputs": [
    {
     "name": "stdout",
     "output_type": "stream",
     "text": [
      "<class 'pandas.core.frame.DataFrame'>\n",
      "Index: 936 entries, Guardians of the Galaxy to Nine Lives\n",
      "Data columns (total 11 columns):\n",
      " #   Column              Non-Null Count  Dtype  \n",
      "---  ------              --------------  -----  \n",
      " 0   Rank                936 non-null    int64  \n",
      " 1   Genre               936 non-null    object \n",
      " 2   Description         936 non-null    object \n",
      " 3   Director            936 non-null    object \n",
      " 4   Actors              936 non-null    object \n",
      " 5   Year                936 non-null    int64  \n",
      " 6   Runtime (Minutes)   936 non-null    int64  \n",
      " 7   Rating              936 non-null    float64\n",
      " 8   Votes               936 non-null    int64  \n",
      " 9   Revenue (Millions)  838 non-null    float64\n",
      " 10  Metascore           936 non-null    float64\n",
      "dtypes: float64(3), int64(4), object(4)\n",
      "memory usage: 87.8+ KB\n"
     ]
    }
   ],
   "source": [
    "df=movies_df[movies_df['Metascore'].notna()]\n",
    "df.info()"
   ]
  },
  {
   "cell_type": "markdown",
   "metadata": {},
   "source": [
    "## 문제 3\n",
    "Automobile_data.csv 파일을 아래와 같이 df라는 dataframe으로 읽어들였다. 61개의 row를 가지고 있고 9개의 column 모두에 Null값은 없다.  아래에 있는 문제를 푸시오"
   ]
  },
  {
   "cell_type": "code",
   "execution_count": 4,
   "metadata": {},
   "outputs": [
    {
     "name": "stdout",
     "output_type": "stream",
     "text": [
      "<class 'pandas.core.frame.DataFrame'>\n",
      "Int64Index: 61 entries, 0 to 88\n",
      "Data columns (total 9 columns):\n",
      " #   Column            Non-Null Count  Dtype  \n",
      "---  ------            --------------  -----  \n",
      " 0   company           61 non-null     object \n",
      " 1   body-style        61 non-null     object \n",
      " 2   wheel-base        61 non-null     float64\n",
      " 3   length            61 non-null     float64\n",
      " 4   engine-type       61 non-null     object \n",
      " 5   num-of-cylinders  61 non-null     object \n",
      " 6   horsepower        61 non-null     int64  \n",
      " 7   average-mileage   61 non-null     int64  \n",
      " 8   price             61 non-null     object \n",
      "dtypes: float64(2), int64(2), object(5)\n",
      "memory usage: 4.8+ KB\n"
     ]
    }
   ],
   "source": [
    "df = pd.read_csv(\"Automobile_data.csv\",index_col=\"index\")\n",
    "df.info()"
   ]
  },
  {
   "cell_type": "markdown",
   "metadata": {},
   "source": [
    "1.**Automobile_data.csv 파일을 Excel로 열어보면 price column에 ?와 n.a 등 숫자형태가 아닌 값들이 들어가 있다. 이 숫자형태가 아닌 값들을 제외한 나머지 price 값들의 평균값을 구해 출력하시오. <font color=blue>구한 평균값이 원래 파일에 있는 값들의 크기와 엉뚱하게 다른 값은 아닌지 출력전에 반드시 확인하시오.</font>** <br>\n",
    "2.<font color=red>**Automobile_data.csv 파일을 na_values 옵션 등을 이용하여 다시 읽어서는 절대로 안됨.**</font>\n",
    "**즉, 위의 cell에서 만든 df를 그대로 이용하여 문제를 푸시오.**"
   ]
  },
  {
   "cell_type": "code",
   "execution_count": 5,
   "metadata": {},
   "outputs": [
    {
     "data": {
      "text/plain": [
       "15387.0"
      ]
     },
     "execution_count": 5,
     "metadata": {},
     "output_type": "execute_result"
    }
   ],
   "source": [
    "df.loc[df['price'] == '?'] = np.nan\n",
    "df.loc[df['price'] == 'n.a'] = np.nan\n",
    "\n",
    "df1=df.dropna()\n",
    "a1=df1['price'].astype('int')\n",
    "a2=a1.mean()\n",
    "a2"
   ]
  },
  {
   "cell_type": "markdown",
   "metadata": {},
   "source": [
    "## 문제 4\n",
    "**dataframe df의 price column의 값이 ? 또는 n.a인 곳을 위 cell에서 구한 평균값으로 impute 하시오. (<font color=red>여기서도 Automobile_data.csv 파일을 na_values 옵션 등을 이용하여 다시 읽어서는 절대로 안됨.</font>) Automobile_data.csv 파일을 열어보면 index가 31, 32, 63인 3 곳이 해당되는데 올바르게 impute됐는지 확인하기 위해 index가 31, 32, 63인 3 곳의 price값을 출력하시오. 이 3 곳의 price값이 위에서 구한 평균값과 같아야 함.**"
   ]
  },
  {
   "cell_type": "code",
   "execution_count": 6,
   "metadata": {},
   "outputs": [
    {
     "name": "stdout",
     "output_type": "stream",
     "text": [
      "31: 15387.0\n",
      "32: 15387.0\n",
      "63: 15387.0\n"
     ]
    }
   ],
   "source": [
    "df=df.fillna(a2)\n",
    "print('31:',df['price'].loc[31])\n",
    "print('32:',df['price'].loc[32])\n",
    "print('63:',df['price'].loc[63])"
   ]
  },
  {
   "cell_type": "markdown",
   "metadata": {},
   "source": [
    "## 문제 5\n",
    "iris.csv를 아래와 같이 df라는 이름의 dataframe으로 읽어들였다. iris.csv에는 모두 5개의 column이 있는데 이중 처음 4개가 입력변수(feature)이고 마지막 species가 출력변수(label)이다. <br><br>\n",
    "아래에 있는 문제 5-1. 5-2, 5-3, 5-4를 푸시오."
   ]
  },
  {
   "cell_type": "code",
   "execution_count": 7,
   "metadata": {},
   "outputs": [
    {
     "data": {
      "text/html": [
       "<div>\n",
       "<style scoped>\n",
       "    .dataframe tbody tr th:only-of-type {\n",
       "        vertical-align: middle;\n",
       "    }\n",
       "\n",
       "    .dataframe tbody tr th {\n",
       "        vertical-align: top;\n",
       "    }\n",
       "\n",
       "    .dataframe thead th {\n",
       "        text-align: right;\n",
       "    }\n",
       "</style>\n",
       "<table border=\"1\" class=\"dataframe\">\n",
       "  <thead>\n",
       "    <tr style=\"text-align: right;\">\n",
       "      <th></th>\n",
       "      <th>sepal_length</th>\n",
       "      <th>sepal_width</th>\n",
       "      <th>petal_length</th>\n",
       "      <th>petal_width</th>\n",
       "      <th>species</th>\n",
       "    </tr>\n",
       "  </thead>\n",
       "  <tbody>\n",
       "    <tr>\n",
       "      <th>0</th>\n",
       "      <td>5.1</td>\n",
       "      <td>3.5</td>\n",
       "      <td>1.4</td>\n",
       "      <td>0.2</td>\n",
       "      <td>setosa</td>\n",
       "    </tr>\n",
       "    <tr>\n",
       "      <th>1</th>\n",
       "      <td>4.9</td>\n",
       "      <td>3.0</td>\n",
       "      <td>1.4</td>\n",
       "      <td>0.2</td>\n",
       "      <td>setosa</td>\n",
       "    </tr>\n",
       "    <tr>\n",
       "      <th>2</th>\n",
       "      <td>4.7</td>\n",
       "      <td>3.2</td>\n",
       "      <td>1.3</td>\n",
       "      <td>0.2</td>\n",
       "      <td>setosa</td>\n",
       "    </tr>\n",
       "    <tr>\n",
       "      <th>3</th>\n",
       "      <td>4.6</td>\n",
       "      <td>3.1</td>\n",
       "      <td>1.5</td>\n",
       "      <td>0.2</td>\n",
       "      <td>setosa</td>\n",
       "    </tr>\n",
       "    <tr>\n",
       "      <th>4</th>\n",
       "      <td>5.0</td>\n",
       "      <td>3.6</td>\n",
       "      <td>1.4</td>\n",
       "      <td>0.2</td>\n",
       "      <td>setosa</td>\n",
       "    </tr>\n",
       "  </tbody>\n",
       "</table>\n",
       "</div>"
      ],
      "text/plain": [
       "   sepal_length  sepal_width  petal_length  petal_width species\n",
       "0           5.1          3.5           1.4          0.2  setosa\n",
       "1           4.9          3.0           1.4          0.2  setosa\n",
       "2           4.7          3.2           1.3          0.2  setosa\n",
       "3           4.6          3.1           1.5          0.2  setosa\n",
       "4           5.0          3.6           1.4          0.2  setosa"
      ]
     },
     "execution_count": 7,
     "metadata": {},
     "output_type": "execute_result"
    }
   ],
   "source": [
    "df = pd.read_csv(\"iris.csv\")\n",
    "df.head()"
   ]
  },
  {
   "cell_type": "markdown",
   "metadata": {},
   "source": [
    "### 5-1 \n",
    "위의 dataframe df에서 입력변수만을 뽑아 X라는 이름의 dataframe을 만들고 출력변수만을 뽑아 y라는 이름의 dataframe을 만들고 X를 출력하시오. X의 크기는 150x4, y의 크기는 150x1이 되어야 한다. (여기서 X는 대문자이고 y는 소문자임)"
   ]
  },
  {
   "cell_type": "code",
   "execution_count": 8,
   "metadata": {},
   "outputs": [
    {
     "data": {
      "text/html": [
       "<div>\n",
       "<style scoped>\n",
       "    .dataframe tbody tr th:only-of-type {\n",
       "        vertical-align: middle;\n",
       "    }\n",
       "\n",
       "    .dataframe tbody tr th {\n",
       "        vertical-align: top;\n",
       "    }\n",
       "\n",
       "    .dataframe thead th {\n",
       "        text-align: right;\n",
       "    }\n",
       "</style>\n",
       "<table border=\"1\" class=\"dataframe\">\n",
       "  <thead>\n",
       "    <tr style=\"text-align: right;\">\n",
       "      <th></th>\n",
       "      <th>sepal_length</th>\n",
       "      <th>sepal_width</th>\n",
       "      <th>petal_length</th>\n",
       "      <th>petal_width</th>\n",
       "    </tr>\n",
       "  </thead>\n",
       "  <tbody>\n",
       "    <tr>\n",
       "      <th>0</th>\n",
       "      <td>5.1</td>\n",
       "      <td>3.5</td>\n",
       "      <td>1.4</td>\n",
       "      <td>0.2</td>\n",
       "    </tr>\n",
       "    <tr>\n",
       "      <th>1</th>\n",
       "      <td>4.9</td>\n",
       "      <td>3.0</td>\n",
       "      <td>1.4</td>\n",
       "      <td>0.2</td>\n",
       "    </tr>\n",
       "    <tr>\n",
       "      <th>2</th>\n",
       "      <td>4.7</td>\n",
       "      <td>3.2</td>\n",
       "      <td>1.3</td>\n",
       "      <td>0.2</td>\n",
       "    </tr>\n",
       "    <tr>\n",
       "      <th>3</th>\n",
       "      <td>4.6</td>\n",
       "      <td>3.1</td>\n",
       "      <td>1.5</td>\n",
       "      <td>0.2</td>\n",
       "    </tr>\n",
       "    <tr>\n",
       "      <th>4</th>\n",
       "      <td>5.0</td>\n",
       "      <td>3.6</td>\n",
       "      <td>1.4</td>\n",
       "      <td>0.2</td>\n",
       "    </tr>\n",
       "    <tr>\n",
       "      <th>...</th>\n",
       "      <td>...</td>\n",
       "      <td>...</td>\n",
       "      <td>...</td>\n",
       "      <td>...</td>\n",
       "    </tr>\n",
       "    <tr>\n",
       "      <th>145</th>\n",
       "      <td>6.7</td>\n",
       "      <td>3.0</td>\n",
       "      <td>5.2</td>\n",
       "      <td>2.3</td>\n",
       "    </tr>\n",
       "    <tr>\n",
       "      <th>146</th>\n",
       "      <td>6.3</td>\n",
       "      <td>2.5</td>\n",
       "      <td>5.0</td>\n",
       "      <td>1.9</td>\n",
       "    </tr>\n",
       "    <tr>\n",
       "      <th>147</th>\n",
       "      <td>6.5</td>\n",
       "      <td>3.0</td>\n",
       "      <td>5.2</td>\n",
       "      <td>2.0</td>\n",
       "    </tr>\n",
       "    <tr>\n",
       "      <th>148</th>\n",
       "      <td>6.2</td>\n",
       "      <td>3.4</td>\n",
       "      <td>5.4</td>\n",
       "      <td>2.3</td>\n",
       "    </tr>\n",
       "    <tr>\n",
       "      <th>149</th>\n",
       "      <td>5.9</td>\n",
       "      <td>3.0</td>\n",
       "      <td>5.1</td>\n",
       "      <td>1.8</td>\n",
       "    </tr>\n",
       "  </tbody>\n",
       "</table>\n",
       "<p>150 rows × 4 columns</p>\n",
       "</div>"
      ],
      "text/plain": [
       "     sepal_length  sepal_width  petal_length  petal_width\n",
       "0             5.1          3.5           1.4          0.2\n",
       "1             4.9          3.0           1.4          0.2\n",
       "2             4.7          3.2           1.3          0.2\n",
       "3             4.6          3.1           1.5          0.2\n",
       "4             5.0          3.6           1.4          0.2\n",
       "..            ...          ...           ...          ...\n",
       "145           6.7          3.0           5.2          2.3\n",
       "146           6.3          2.5           5.0          1.9\n",
       "147           6.5          3.0           5.2          2.0\n",
       "148           6.2          3.4           5.4          2.3\n",
       "149           5.9          3.0           5.1          1.8\n",
       "\n",
       "[150 rows x 4 columns]"
      ]
     },
     "execution_count": 8,
     "metadata": {},
     "output_type": "execute_result"
    }
   ],
   "source": [
    "X = df[['sepal_length','sepal_width','petal_length','petal_width']]\n",
    "y = df[['species']]\n",
    "X"
   ]
  },
  {
   "cell_type": "markdown",
   "metadata": {},
   "source": [
    "### 5-2  KNN\n",
    "위의 dataframe df의 label에는 3종류(setosa, versicolor, verginica)가 있다.  각각이 50개씩 위에서 아래로 순서대로 파일에 들어가 있다. 즉, 3종류가 1:1:1의 비율로 되어 있다. 이 데이터로부터 training set과 test set을 아래 코드를 이용하여 만드시오. 아래 코드는 3종류 50개 각각으로부터 test set으로 30%, training set으로 나머지 70%를 랜덤하게 가져온다. 이렇게 만들고 나면 training set과 test set 모두에서 label 3종류가 1:1:1의 비율을 그대로 유지한다. train_test_split 함수는 4개의 dataframe인 X_train, X_test, y_train, y_test를 반환하는데 각각은 순서대로 training set의 feature, test set의 feature, training set의 label, test set의 label을 의미한다. <br><br>\n",
    "이를 이용하여 아래에 있는  KNN 문제를 푸시오."
   ]
  },
  {
   "cell_type": "code",
   "execution_count": 9,
   "metadata": {},
   "outputs": [
    {
     "data": {
      "text/html": [
       "<div>\n",
       "<style scoped>\n",
       "    .dataframe tbody tr th:only-of-type {\n",
       "        vertical-align: middle;\n",
       "    }\n",
       "\n",
       "    .dataframe tbody tr th {\n",
       "        vertical-align: top;\n",
       "    }\n",
       "\n",
       "    .dataframe thead th {\n",
       "        text-align: right;\n",
       "    }\n",
       "</style>\n",
       "<table border=\"1\" class=\"dataframe\">\n",
       "  <thead>\n",
       "    <tr style=\"text-align: right;\">\n",
       "      <th></th>\n",
       "      <th>sepal_length</th>\n",
       "      <th>sepal_width</th>\n",
       "      <th>petal_length</th>\n",
       "      <th>petal_width</th>\n",
       "    </tr>\n",
       "  </thead>\n",
       "  <tbody>\n",
       "    <tr>\n",
       "      <th>103</th>\n",
       "      <td>6.3</td>\n",
       "      <td>2.9</td>\n",
       "      <td>5.6</td>\n",
       "      <td>1.8</td>\n",
       "    </tr>\n",
       "    <tr>\n",
       "      <th>105</th>\n",
       "      <td>7.6</td>\n",
       "      <td>3.0</td>\n",
       "      <td>6.6</td>\n",
       "      <td>2.1</td>\n",
       "    </tr>\n",
       "    <tr>\n",
       "      <th>7</th>\n",
       "      <td>5.0</td>\n",
       "      <td>3.4</td>\n",
       "      <td>1.5</td>\n",
       "      <td>0.2</td>\n",
       "    </tr>\n",
       "    <tr>\n",
       "      <th>70</th>\n",
       "      <td>5.9</td>\n",
       "      <td>3.2</td>\n",
       "      <td>4.8</td>\n",
       "      <td>1.8</td>\n",
       "    </tr>\n",
       "    <tr>\n",
       "      <th>96</th>\n",
       "      <td>5.7</td>\n",
       "      <td>2.9</td>\n",
       "      <td>4.2</td>\n",
       "      <td>1.3</td>\n",
       "    </tr>\n",
       "    <tr>\n",
       "      <th>...</th>\n",
       "      <td>...</td>\n",
       "      <td>...</td>\n",
       "      <td>...</td>\n",
       "      <td>...</td>\n",
       "    </tr>\n",
       "    <tr>\n",
       "      <th>72</th>\n",
       "      <td>6.3</td>\n",
       "      <td>2.5</td>\n",
       "      <td>4.9</td>\n",
       "      <td>1.5</td>\n",
       "    </tr>\n",
       "    <tr>\n",
       "      <th>61</th>\n",
       "      <td>5.9</td>\n",
       "      <td>3.0</td>\n",
       "      <td>4.2</td>\n",
       "      <td>1.5</td>\n",
       "    </tr>\n",
       "    <tr>\n",
       "      <th>76</th>\n",
       "      <td>6.8</td>\n",
       "      <td>2.8</td>\n",
       "      <td>4.8</td>\n",
       "      <td>1.4</td>\n",
       "    </tr>\n",
       "    <tr>\n",
       "      <th>32</th>\n",
       "      <td>5.2</td>\n",
       "      <td>4.1</td>\n",
       "      <td>1.5</td>\n",
       "      <td>0.1</td>\n",
       "    </tr>\n",
       "    <tr>\n",
       "      <th>88</th>\n",
       "      <td>5.6</td>\n",
       "      <td>3.0</td>\n",
       "      <td>4.1</td>\n",
       "      <td>1.3</td>\n",
       "    </tr>\n",
       "  </tbody>\n",
       "</table>\n",
       "<p>105 rows × 4 columns</p>\n",
       "</div>"
      ],
      "text/plain": [
       "     sepal_length  sepal_width  petal_length  petal_width\n",
       "103           6.3          2.9           5.6          1.8\n",
       "105           7.6          3.0           6.6          2.1\n",
       "7             5.0          3.4           1.5          0.2\n",
       "70            5.9          3.2           4.8          1.8\n",
       "96            5.7          2.9           4.2          1.3\n",
       "..            ...          ...           ...          ...\n",
       "72            6.3          2.5           4.9          1.5\n",
       "61            5.9          3.0           4.2          1.5\n",
       "76            6.8          2.8           4.8          1.4\n",
       "32            5.2          4.1           1.5          0.1\n",
       "88            5.6          3.0           4.1          1.3\n",
       "\n",
       "[105 rows x 4 columns]"
      ]
     },
     "execution_count": 9,
     "metadata": {},
     "output_type": "execute_result"
    }
   ],
   "source": [
    "from sklearn.model_selection import train_test_split\n",
    "\n",
    "X_train, X_test, y_train, y_test = train_test_split(X, y, test_size=0.3, stratify=y)\n",
    "X_train"
   ]
  },
  {
   "cell_type": "markdown",
   "metadata": {},
   "source": [
    "## KNN\n",
    "위의 cell에서 만든 training set과 test set을 가지고 K-nearest-neighbor classification을 행하고 training set과 test set에 대한 정확도를 출력하시오. 이때 K 값은 3으로 하고 입력 feature 4개를 모두 사용한다."
   ]
  },
  {
   "cell_type": "code",
   "execution_count": 14,
   "metadata": {},
   "outputs": [
    {
     "name": "stdout",
     "output_type": "stream",
     "text": [
      "Training Accuracy: 0.9619047619047619\n",
      "Test Accuracy: 0.9777777777777777\n"
     ]
    },
    {
     "name": "stderr",
     "output_type": "stream",
     "text": [
      "C:\\Users\\whl05\\anaconda3\\lib\\site-packages\\ipykernel_launcher.py:5: DataConversionWarning: A column-vector y was passed when a 1d array was expected. Please change the shape of y to (n_samples, ), for example using ravel().\n",
      "  \"\"\"\n"
     ]
    }
   ],
   "source": [
    "from sklearn.neighbors import KNeighborsClassifier\n",
    "\n",
    "neighbors = 3\n",
    "classifier = KNeighborsClassifier(n_neighbors=neighbors)\n",
    "classifier.fit(X_train, y_train)\n",
    "\n",
    "train_pred = classifier.predict(X_train)\n",
    "test_pred = classifier.predict(X_test)\n",
    "\n",
    "num_train = len(X_train)\n",
    "num_test = len(X_test)\n",
    "train_correct = 0\n",
    "\n",
    "for i in range(num_train):\n",
    "    if train_pred[i] == y_train.values[i]: train_correct +=1\n",
    "print ('Training Accuracy:', float(train_correct)/float(num_train))\n",
    "\n",
    "test_correct = 0\n",
    "for i in range(num_test):\n",
    "    if test_pred[i] == y_test.values[i]: test_correct +=1\n",
    "print ('Test Accuracy:', float(test_correct)/float(num_test))"
   ]
  },
  {
   "cell_type": "markdown",
   "metadata": {},
   "source": [
    "### 5-3 Decision Tree\n",
    "같은 데이터에 대해 decision tree classification을 실행하고 training set과 test set에 대한 정확도를 출력하시오. 이때 min_samples_split=5로 하고 입력 feature 4개를 모두 사용한다."
   ]
  },
  {
   "cell_type": "code",
   "execution_count": 13,
   "metadata": {},
   "outputs": [
    {
     "name": "stdout",
     "output_type": "stream",
     "text": [
      "Training Accuracy: 1.0\n",
      "Test Accuracy: 0.9555555555555556\n"
     ]
    }
   ],
   "source": [
    "from sklearn.tree import DecisionTreeClassifier\n",
    "\n",
    "split = 5\n",
    "\n",
    "dt = DecisionTreeClassifier(min_samples_split=split) \n",
    "dt.fit(X_train, y_train)\n",
    "\n",
    "train_predictions = dt.predict(X_train)\n",
    "test_predictions = dt.predict(X_test)\n",
    "num_train = len(X_train)\n",
    "num_test = len(X_test)\n",
    "\n",
    "train_correct = 0\n",
    "for i in range(num_train):\n",
    "    if train_predictions[i] == y_train.values[i]: train_correct +=1\n",
    "print ('Training Accuracy:', float(train_correct)/float(num_train))\n",
    "\n",
    "test_correct = 0\n",
    "for i in range(num_test):\n",
    "    if test_predictions[i] == y_test.values[i]: test_correct +=1\n",
    "print ('Test Accuracy:', float(test_correct)/float(num_test))"
   ]
  },
  {
   "cell_type": "markdown",
   "metadata": {},
   "source": [
    "### 5-4 Logistic Regression\n",
    "같은 데이터에 대해 logistic regression을 실행하고 training set과 test set에 대한 정확도를 출력하시오. 이때 max_iter=1000으로 하고 입력 feature 4개를 모두 사용한다."
   ]
  },
  {
   "cell_type": "code",
   "execution_count": 12,
   "metadata": {},
   "outputs": [
    {
     "name": "stdout",
     "output_type": "stream",
     "text": [
      "Training Accuracy: 0.9809523809523809\n",
      "Test Accuracy: 0.9555555555555556\n"
     ]
    },
    {
     "name": "stderr",
     "output_type": "stream",
     "text": [
      "C:\\Users\\whl05\\anaconda3\\lib\\site-packages\\sklearn\\utils\\validation.py:72: DataConversionWarning: A column-vector y was passed when a 1d array was expected. Please change the shape of y to (n_samples, ), for example using ravel().\n",
      "  return f(**kwargs)\n"
     ]
    }
   ],
   "source": [
    "from sklearn.linear_model import LogisticRegression\n",
    "\n",
    "model2 = LogisticRegression(max_iter=1000)\n",
    "model2.fit(X_train, y_train)\n",
    "train_predictions = model2.predict(X_train)\n",
    "test_predictions = model2.predict(X_test)\n",
    "num_train = len(X_train)\n",
    "num_test = len(X_test)\n",
    "train_correct = 0\n",
    "\n",
    "for i in range(num_train):\n",
    "    if train_predictions[i] == y_train.values[i]: train_correct +=1\n",
    "print ('Training Accuracy:', float(train_correct)/float(num_train))\n",
    "test_correct = 0\n",
    "\n",
    "for j in range(num_test):\n",
    "    if test_predictions[j] == y_test.values[j]: test_correct +=1\n",
    "print ('Test Accuracy:', float(test_correct)/float(num_test))"
   ]
  },
  {
   "cell_type": "code",
   "execution_count": null,
   "metadata": {},
   "outputs": [],
   "source": []
  }
 ],
 "metadata": {
  "kernelspec": {
   "display_name": "Python 3",
   "language": "python",
   "name": "python3"
  },
  "language_info": {
   "codemirror_mode": {
    "name": "ipython",
    "version": 3
   },
   "file_extension": ".py",
   "mimetype": "text/x-python",
   "name": "python",
   "nbconvert_exporter": "python",
   "pygments_lexer": "ipython3",
   "version": "3.7.9"
  }
 },
 "nbformat": 4,
 "nbformat_minor": 4
}
