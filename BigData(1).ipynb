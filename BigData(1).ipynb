{
 "cells": [
  {
   "cell_type": "markdown",
   "metadata": {},
   "source": [
    "## SQL을 사용하기 위한 setup"
   ]
  },
  {
   "cell_type": "code",
   "execution_count": 1,
   "metadata": {},
   "outputs": [],
   "source": [
    "%load_ext sql"
   ]
  },
  {
   "cell_type": "code",
   "execution_count": 2,
   "metadata": {},
   "outputs": [],
   "source": [
    "%sql sqlite:///Weather.db"
   ]
  },
  {
   "cell_type": "markdown",
   "metadata": {},
   "source": [
   
    "Regions table 에서 coastal이 Y인 state의 갯수를 되돌리는  SQL 프로그램을 작성하시오."
   ]
  },
  {
   "cell_type": "code",
   "execution_count": 8,
   "metadata": {},
   "outputs": [
    {
     "name": "stdout",
     "output_type": "stream",
     "text": [
      " * sqlite:///Weather.db\n",
      "Done.\n"
     ]
    },
    {
     "data": {
      "text/html": [
       "<table>\n",
       "    <tr>\n",
       "        <th>COUNT(state)</th>\n",
       "    </tr>\n",
       "    <tr>\n",
       "        <td>19</td>\n",
       "    </tr>\n",
       "</table>"
      ],
      "text/plain": [
       "[(19,)]"
      ]
     },
     "execution_count": 8,
     "metadata": {},
     "output_type": "execute_result"
    }
   ],
   "source": [
    "%%sql\n",
    "Select COUNT(state)\n",
    "From Regions\n",
    "Where coastal='Y'\n"
   ]
  },
  {
   "cell_type": "markdown",
   "metadata": {},
   "source": [
    "## [학점취득용과제]\n",
    "\n",
    " CityTemps table을 lat의 내림차순으로 정렬하고 최상위 4개의 행만 출력하는 SQL 프로그램을 작성하시오.(모든 속성 출력)\n"
   ]
  },
  {
   "cell_type": "code",
   "execution_count": 6,
   "metadata": {},
   "outputs": [
    {
     "name": "stdout",
     "output_type": "stream",
     "text": [
      " * sqlite:///Weather.db\n",
      "Done.\n"
     ]
    },
    {
     "data": {
      "text/html": [
       "<table>\n",
       "    <tr>\n",
       "        <th>city</th>\n",
       "        <th>state</th>\n",
       "        <th>lat</th>\n",
       "        <th>lng</th>\n",
       "        <th>temp</th>\n",
       "    </tr>\n",
       "    <tr>\n",
       "        <td>Seattle</td>\n",
       "        <td>Washington</td>\n",
       "        <td>48.1</td>\n",
       "        <td>122.5</td>\n",
       "        <td>45</td>\n",
       "    </tr>\n",
       "    <tr>\n",
       "        <td>Spokane</td>\n",
       "        <td>Washington</td>\n",
       "        <td>48.1</td>\n",
       "        <td>117.9</td>\n",
       "        <td>31</td>\n",
       "    </tr>\n",
       "    <tr>\n",
       "        <td>Helena</td>\n",
       "        <td>Montana</td>\n",
       "        <td>47.1</td>\n",
       "        <td>112.4</td>\n",
       "        <td>32</td>\n",
       "    </tr>\n",
       "    <tr>\n",
       "        <td>Bismarck</td>\n",
       "        <td>North Dakota</td>\n",
       "        <td>47.1</td>\n",
       "        <td>101.0</td>\n",
       "        <td>24</td>\n",
       "    </tr>\n",
       "</table>"
      ],
      "text/plain": [
       "[('Seattle', 'Washington', 48.1, 122.5, 45),\n",
       " ('Spokane', 'Washington', 48.1, 117.9, 31),\n",
       " ('Helena', 'Montana', 47.1, 112.4, 32),\n",
       " ('Bismarck', 'North Dakota', 47.1, 101.0, 24)]"
      ]
     },
     "execution_count": 6,
     "metadata": {},
     "output_type": "execute_result"
    }
   ],
   "source": [
    "%%sql\n",
    "Select *\n",
    "From CityTemps\n",
    "order by lat desc\n",
    "limit 4"
   ]
  },
  {
   "cell_type": "markdown",
   "metadata": {},
   "source": [
    "## [학점취득용과제]\n",
    "\n",
    " CityTemps table을 lat의 내림차순으로 정렬하고 최하위 4개의 행만 출력하는 SQL 프로그램을 작성하시오.(모든 속성 출력)\n"
   ]
  },
  {
   "cell_type": "code",
   "execution_count": 31,
   "metadata": {},
   "outputs": [
    {
     "name": "stdout",
     "output_type": "stream",
     "text": [
      " * sqlite:///Weather.db\n",
      "Done.\n"
     ]
    },
    {
     "data": {
      "text/html": [
       "<table>\n",
       "    <tr>\n",
       "        <th>city</th>\n",
       "        <th>state</th>\n",
       "        <th>lat</th>\n",
       "        <th>lng</th>\n",
       "        <th>temp</th>\n",
       "    </tr>\n",
       "    <tr>\n",
       "        <td>Houston</td>\n",
       "        <td>Texas</td>\n",
       "        <td>30.1</td>\n",
       "        <td>95.9</td>\n",
       "        <td>56</td>\n",
       "    </tr>\n",
       "    <tr>\n",
       "        <td>Galveston</td>\n",
       "        <td>Texas</td>\n",
       "        <td>29.4</td>\n",
       "        <td>95.5</td>\n",
       "        <td>61</td>\n",
       "    </tr>\n",
       "    <tr>\n",
       "        <td>Miami</td>\n",
       "        <td>Florida</td>\n",
       "        <td>26.3</td>\n",
       "        <td>80.7</td>\n",
       "        <td>70</td>\n",
       "    </tr>\n",
       "    <tr>\n",
       "        <td>Key West</td>\n",
       "        <td>Florida</td>\n",
       "        <td>25.0</td>\n",
       "        <td>82.0</td>\n",
       "        <td>77</td>\n",
       "    </tr>\n",
       "</table>"
      ],
      "text/plain": [
       "[('Houston', 'Texas', 30.1, 95.9, 56),\n",
       " ('Galveston', 'Texas', 29.4, 95.5, 61),\n",
       " ('Miami', 'Florida', 26.3, 80.7, 70),\n",
       " ('Key West', 'Florida', 25.0, 82.0, 77)]"
      ]
     },
     "execution_count": 31,
     "metadata": {},
     "output_type": "execute_result"
    }
   ],
   "source": [
    "%%sql\n",
    "Select *\n",
    "From CityTemps\n",
    "order by lat desc\n",
    "limit 50,54\n"
   ]
  },
  {
   "cell_type": "code",
   "execution_count": null,
   "metadata": {},
   "outputs": [],
   "source": []
  }
 ],
 "metadata": {
  "kernelspec": {
   "display_name": "Python 3",
   "language": "python",
   "name": "python3"
  },
  "language_info": {
   "codemirror_mode": {
    "name": "ipython",
    "version": 3
   },
   "file_extension": ".py",
   "mimetype": "text/x-python",
   "name": "python",
   "nbconvert_exporter": "python",
   "pygments_lexer": "ipython3",
   "version": "3.7.6"
  }
 },
 "nbformat": 4,
 "nbformat_minor": 4
}
