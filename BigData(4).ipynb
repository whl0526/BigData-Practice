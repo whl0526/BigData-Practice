{
 "cells": [
  {
   "cell_type": "markdown",
   "metadata": {},
   "source": [
    "## SQL을 사용하기 위한 setup"
   ]
  },
  {
   "cell_type": "code",
   "execution_count": 11,
   "metadata": {},
   "outputs": [
    {
     "name": "stdout",
     "output_type": "stream",
     "text": [
      "The sql extension is already loaded. To reload it, use:\n",
      "  %reload_ext sql\n"
     ]
    }
   ],
   "source": [
    "%load_ext sql"
   ]
  },
  {
   "cell_type": "code",
   "execution_count": 16,
   "metadata": {},
   "outputs": [],
   "source": [
    "%sql sqlite:///Weather.db"
   ]
  },
  {
   "cell_type": "markdown",
   "metadata": {},
   "source": [
  
    "Regions table 에서 region이 Northeast인 state의 갯수를 되돌리는  SQL 프로그램을 작성하시오"
   ]
  },
  {
   "cell_type": "code",
   "execution_count": 18,
   "metadata": {},
   "outputs": [
    {
     "name": "stdout",
     "output_type": "stream",
     "text": [
      " * sqlite:///Weather.db\n",
      "Done.\n"
     ]
    },
    {
     "data": {
      "text/html": [
       "<table>\n",
       "    <tr>\n",
       "        <th>COUNT(state)</th>\n",
       "    </tr>\n",
       "    <tr>\n",
       "        <td>5</td>\n",
       "    </tr>\n",
       "</table>"
      ],
      "text/plain": [
       "[(5,)]"
      ]
     },
     "execution_count": 18,
     "metadata": {},
     "output_type": "execute_result"
    }
   ],
   "source": [
    "%%sql\n",
    "Select COUNT(state)\n",
    "From Regions\n",
    "Where region='Northeast'"
   ]
  },
  {
   "cell_type": "markdown",
   "metadata": {},
   "source": [
   
    "\n",
    " CityTemps table에서 온도(temp)가 가장 높은 도시와 그 도시의 온도를 출력하시오. 도시의 온도는 '최고온도' 라는 이름으로 출력하시오. 반드시 Not Exists를 사용하시오. "
   ]
  },
  {
   "cell_type": "code",
   "execution_count": 34,
   "metadata": {},
   "outputs": [
    {
     "name": "stdout",
     "output_type": "stream",
     "text": [
      " * sqlite:///Weather.db\n",
      "Done.\n"
     ]
    },
    {
     "data": {
      "text/html": [
       "<table>\n",
       "    <tr>\n",
       "        <th>state</th>\n",
       "        <th>최고온도</th>\n",
       "    </tr>\n",
       "    <tr>\n",
       "        <td>Florida</td>\n",
       "        <td>77</td>\n",
       "    </tr>\n",
       "</table>"
      ],
      "text/plain": [
       "[('Florida', 77)]"
      ]
     },
     "execution_count": 34,
     "metadata": {},
     "output_type": "execute_result"
    }
   ],
   "source": [
    "%%sql\n",
    "Select state, temp as '최고온도'\n",
    "From CityTemps C1\n",
    "Where Not Exists (Select * From CityTemps C2 Where C2.temp > C1.temp)"
   ]
  },
  {
   "cell_type": "markdown",
   "metadata": {},
   "source": [
   
    "\n",
    "위 문제를 Not Exists를 사용하지 말고 프로그램하시오. "
   ]
  },
  {
   "cell_type": "code",
   "execution_count": 35,
   "metadata": {},
   "outputs": [
    {
     "name": "stdout",
     "output_type": "stream",
     "text": [
      " * sqlite:///Weather.db\n",
      "Done.\n"
     ]
    },
    {
     "data": {
      "text/html": [
       "<table>\n",
       "    <tr>\n",
       "        <th>state</th>\n",
       "        <th>최고온도</th>\n",
       "    </tr>\n",
       "    <tr>\n",
       "        <td>Florida</td>\n",
       "        <td>77</td>\n",
       "    </tr>\n",
       "</table>"
      ],
      "text/plain": [
       "[('Florida', 77)]"
      ]
     },
     "execution_count": 35,
     "metadata": {},
     "output_type": "execute_result"
    }
   ],
   "source": [
    "%%sql\n",
    "Select state, temp as '최고온도'\n",
    "From CityTemps C1\n",
    "Where C1.temp = (Select max(temp) from CityTemps C2)"
   ]
  },
  {
   "cell_type": "markdown",
   "metadata": {},
   "source": [
   
    "\n",
    "Regions table 에서 coastal이 Y인 state의 갯수, coastal이 N인 state의 갯수, 그리고 두 갯수의 차이의 절대값을 출력하는  1개의 SQL 프로그램을 작성하시오. 반드시 subquery 2개를 From clause에 사용하시오."
   ]
  },
  {
   "cell_type": "code",
   "execution_count": 19,
   "metadata": {},
   "outputs": [
    {
     "name": "stdout",
     "output_type": "stream",
     "text": [
      " * sqlite:///Weather.db\n",
      "Done.\n"
     ]
    },
    {
     "data": {
      "text/html": [
       "<table>\n",
       "    <tr>\n",
       "        <th>coastalY</th>\n",
       "        <th>coastalN</th>\n",
       "        <th>abs(coastalY-coastalN)</th>\n",
       "    </tr>\n",
       "    <tr>\n",
       "        <td>19</td>\n",
       "        <td>24</td>\n",
       "        <td>5</td>\n",
       "    </tr>\n",
       "</table>"
      ],
      "text/plain": [
       "[(19, 24, 5)]"
      ]
     },
     "execution_count": 19,
     "metadata": {},
     "output_type": "execute_result"
    }
   ],
   "source": [
    "%%sql\n",
    "Select coastalY, coastalN,abs(coastalY-coastalN)\n",
    "\n",
    "From (Select count(*) as coastalY\n",
    "    From Regions Where coastal = 'Y'),\n",
    "(Select count(*) as coastalN\n",
    "    From Regions Where coastal = 'N')\n",
    "\n"
   ]
  },
  {
   "cell_type": "code",
   "execution_count": null,
   "metadata": {},
   "outputs": [],
   "source": []
  }
 ],
 "metadata": {
  "kernelspec": {
   "display_name": "Python 3",
   "language": "python",
   "name": "python3"
  },
  "language_info": {
   "codemirror_mode": {
    "name": "ipython",
    "version": 3
   },
   "file_extension": ".py",
   "mimetype": "text/x-python",
   "name": "python",
   "nbconvert_exporter": "python",
   "pygments_lexer": "ipython3",
   "version": "3.7.9"
  }
 },
 "nbformat": 4,
 "nbformat_minor": 4
}
